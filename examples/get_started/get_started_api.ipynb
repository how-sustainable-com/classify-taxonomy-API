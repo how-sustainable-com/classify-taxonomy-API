{
 "cells": [
  {
   "attachments": {},
   "cell_type": "markdown",
   "metadata": {},
   "source": [
    "# Example notebook to get started with using the taxonomy API\n",
    "## The taxonomy API can be used to classify and categorize any text into a predefined taxonomy or categories\n",
    "\n",
    "Questions?\n",
    "Contact us at: [How Sustainable Data Services](https://howsustainabledataservices.com/contact/).  "
   ]
  },
  {
   "cell_type": "code",
   "execution_count": 20,
   "metadata": {},
   "outputs": [
    {
     "name": "stdout",
     "output_type": "stream",
     "text": [
      "Defaulting to user installation because normal site-packages is not writeable\n",
      "Requirement already satisfied: pandas in c:\\users\\freek\\appdata\\roaming\\python\\python311\\site-packages (1.5.3)\n",
      "Requirement already satisfied: python-dateutil>=2.8.1 in c:\\users\\freek\\appdata\\roaming\\python\\python311\\site-packages (from pandas) (2.8.2)\n",
      "Requirement already satisfied: pytz>=2020.1 in c:\\users\\freek\\appdata\\roaming\\python\\python311\\site-packages (from pandas) (2023.3)\n",
      "Requirement already satisfied: numpy>=1.21.0 in c:\\users\\freek\\appdata\\roaming\\python\\python311\\site-packages (from pandas) (1.24.3)\n",
      "Requirement already satisfied: six>=1.5 in c:\\users\\freek\\appdata\\roaming\\python\\python311\\site-packages (from python-dateutil>=2.8.1->pandas) (1.16.0)\n",
      "Note: you may need to restart the kernel to use updated packages.\n"
     ]
    }
   ],
   "source": [
    "%pip install pandas"
   ]
  },
  {
   "cell_type": "code",
   "execution_count": 16,
   "metadata": {},
   "outputs": [],
   "source": [
    "import requests\n",
    "import pandas as pd\n",
    "from requests.exceptions import HTTPError, JSONDecodeError\n",
    "import json\n",
    "\n",
    "API_SERVER = \"https://api.howsustainabledataservices.com/latest\""
   ]
  },
  {
   "cell_type": "code",
   "execution_count": 10,
   "metadata": {},
   "outputs": [],
   "source": [
    "# Helper function to call the API\n",
    "def make_api_call(endpoint, json_body):\n",
    "    url = API_SERVER + endpoint\n",
    "    headers = {\"Authorization\": f\"Bearer {API_TOKEN}\"}\n",
    "\n",
    "    try:\n",
    "        response = requests.post(url, json=json_body, headers=headers)\n",
    "        response.raise_for_status()  # Raise an exception for non-2xx status codes\n",
    "        result = response.json()\n",
    "        return result\n",
    "    except HTTPError as http_err:\n",
    "        print(f\"HTTP error occurred: {http_err}\")\n",
    "    except JSONDecodeError as json_err:\n",
    "        print(f\"JSON decoding error occurred: {json_err}\")\n",
    "    except Exception as err:\n",
    "        print(f\"An error occurred: {err}\")\n",
    "\n",
    "    return None"
   ]
  },
  {
   "attachments": {},
   "cell_type": "markdown",
   "metadata": {},
   "source": [
    "Obtain a free API token at: [How Sustainable Data Services](https://howsustainabledataservices.com/auth/register/).  \n",
    "You can paste the API token in this notebook.  "
   ]
  },
  {
   "cell_type": "code",
   "execution_count": 3,
   "metadata": {},
   "outputs": [],
   "source": [
    "API_TOKEN = \"INSERT_YOUR_API_TOKEN_HERE\""
   ]
  },
  {
   "attachments": {},
   "cell_type": "markdown",
   "metadata": {},
   "source": [
    "Upload your list of categories, which will act as a taxonomy with only 1 level.\n",
    "The API will return an identifier for your uploaded taxonomy.  \n",
    "This identifier will be used in the rest of the notebook to reference back to this taxonomy.  "
   ]
  },
  {
   "cell_type": "code",
   "execution_count": 5,
   "metadata": {},
   "outputs": [
    {
     "name": "stdout",
     "output_type": "stream",
     "text": [
      "This is the identifier for your uploaded taxonomy: dxySgSgfyIVa\n"
     ]
    }
   ],
   "source": [
    "def upload_category_list(category_list):\n",
    "    endpoint = \"/taxonomies/upload_list\"\n",
    "    response = make_api_call(endpoint, category_list)\n",
    "    taxonomy_id = response[\"taxonomy_id\"]\n",
    "\n",
    "    return taxonomy_id\n",
    "\n",
    "your_category_list = [\"Renewable energy\", \"Fossil fuel based energy\"]\n",
    "\n",
    "taxonomy_id = upload_category_list(your_category_list)\n",
    "print(\"Identifier for your uploaded taxonomy:\", taxonomy_id)"
   ]
  },
  {
   "attachments": {},
   "cell_type": "markdown",
   "metadata": {},
   "source": [
    "Now that the API knows our taxonomy, we can ask it to classify products.  "
   ]
  },
  {
   "cell_type": "code",
   "execution_count": 18,
   "metadata": {},
   "outputs": [
    {
     "data": {
      "text/plain": [
       "{'gpt_product_name': 'Solar panels',\n",
       " 'gpt_product_category': 'Renewable energy',\n",
       " 'gpt_confidence': 1.0,\n",
       " 'gpt_notebook_version': 'v1'}"
      ]
     },
     "execution_count": 18,
     "metadata": {},
     "output_type": "execute_result"
    }
   ],
   "source": [
    "def classify_products(taxonomy_id, product_list):\n",
    "    endpoint = f\"/taxonomies/{taxonomy_id}/classify_items_list\"\n",
    "    response = make_api_call(endpoint, product_list)\n",
    "\n",
    "    return response\n",
    "\n",
    "your_product_list = [\"Solar panels\", \"Wind turbines\", \"Hydropower plant\", \"Coal power plant\", \"Natural gas power plant\"]\n",
    "\n",
    "results = classify_products(taxonomy_id, your_product_list)\n",
    "results[0]"
   ]
  },
  {
   "cell_type": "code",
   "execution_count": 17,
   "metadata": {},
   "outputs": [
    {
     "data": {
      "text/html": [
       "<div>\n",
       "<style scoped>\n",
       "    .dataframe tbody tr th:only-of-type {\n",
       "        vertical-align: middle;\n",
       "    }\n",
       "\n",
       "    .dataframe tbody tr th {\n",
       "        vertical-align: top;\n",
       "    }\n",
       "\n",
       "    .dataframe thead th {\n",
       "        text-align: right;\n",
       "    }\n",
       "</style>\n",
       "<table border=\"1\" class=\"dataframe\">\n",
       "  <thead>\n",
       "    <tr style=\"text-align: right;\">\n",
       "      <th></th>\n",
       "      <th>gpt_product_name</th>\n",
       "      <th>gpt_product_category</th>\n",
       "      <th>gpt_confidence</th>\n",
       "      <th>gpt_notebook_version</th>\n",
       "    </tr>\n",
       "  </thead>\n",
       "  <tbody>\n",
       "    <tr>\n",
       "      <th>0</th>\n",
       "      <td>Solar panels</td>\n",
       "      <td>Renewable energy</td>\n",
       "      <td>1.0</td>\n",
       "      <td>v1</td>\n",
       "    </tr>\n",
       "    <tr>\n",
       "      <th>1</th>\n",
       "      <td>Wind turbines</td>\n",
       "      <td>Renewable energy</td>\n",
       "      <td>1.0</td>\n",
       "      <td>v1</td>\n",
       "    </tr>\n",
       "    <tr>\n",
       "      <th>2</th>\n",
       "      <td>Hydropower plant</td>\n",
       "      <td>Renewable energy</td>\n",
       "      <td>1.0</td>\n",
       "      <td>v1</td>\n",
       "    </tr>\n",
       "    <tr>\n",
       "      <th>3</th>\n",
       "      <td>Coal power plant</td>\n",
       "      <td>Fossil fuel based energy</td>\n",
       "      <td>1.0</td>\n",
       "      <td>v1</td>\n",
       "    </tr>\n",
       "    <tr>\n",
       "      <th>4</th>\n",
       "      <td>Natural gas power plant</td>\n",
       "      <td>Fossil fuel based energy</td>\n",
       "      <td>1.0</td>\n",
       "      <td>v1</td>\n",
       "    </tr>\n",
       "  </tbody>\n",
       "</table>\n",
       "</div>"
      ],
      "text/plain": [
       "          gpt_product_name      gpt_product_category  gpt_confidence  \\\n",
       "0             Solar panels          Renewable energy             1.0   \n",
       "1            Wind turbines          Renewable energy             1.0   \n",
       "2         Hydropower plant          Renewable energy             1.0   \n",
       "3         Coal power plant  Fossil fuel based energy             1.0   \n",
       "4  Natural gas power plant  Fossil fuel based energy             1.0   \n",
       "\n",
       "  gpt_notebook_version  \n",
       "0                   v1  \n",
       "1                   v1  \n",
       "2                   v1  \n",
       "3                   v1  \n",
       "4                   v1  "
      ]
     },
     "execution_count": 17,
     "metadata": {},
     "output_type": "execute_result"
    }
   ],
   "source": [
    "pd.DataFrame(results)"
   ]
  },
  {
   "attachments": {},
   "cell_type": "markdown",
   "metadata": {},
   "source": [
    "If you want to make use of a more complex taxonomy, that is possible as well.  "
   ]
  },
  {
   "cell_type": "code",
   "execution_count": 21,
   "metadata": {},
   "outputs": [
    {
     "data": {
      "text/plain": [
       "'WxfNlZ-30-n_'"
      ]
     },
     "execution_count": 21,
     "metadata": {},
     "output_type": "execute_result"
    }
   ],
   "source": [
    "def upload_taxonomy_json(taxonomy_json):\n",
    "    endpoint = \"/taxonomy/taxonomies/upload_json\"\n",
    "    response = make_api_call(endpoint, taxonomy_json)\n",
    "    taxonomy_id = response[\"taxonomy_id\"]\n",
    "\n",
    "    return taxonomy_id\n",
    "\n",
    "your_taxonomy_json = {\n",
    "  \"categories\": [\n",
    "    {\n",
    "      \"category_name\": \"Renewable energy\",\n",
    "      \"category_description\": \"Power generation based on renewable energy sources\",\n",
    "      \"subcategories\": [\n",
    "        {\n",
    "          \"category_name\": \"Wind energy\",\n",
    "          \"category_description\": \"Power generation based on wind\",\n",
    "          \"subcategories\": []\n",
    "        },\n",
    "        {\n",
    "          \"category_name\": \"Solar energy\",\n",
    "          \"category_description\": \"Power generation based on sun\",\n",
    "          \"subcategories\": []\n",
    "        }\n",
    "      ]\n",
    "    },\n",
    "    {\n",
    "      \"category_name\": \"Fossil fuel based energy\t\",\n",
    "      \"category_description\": \"Power generation based on fossil fuel energy sources\",\n",
    "    }\n",
    "  ]\n",
    "}\n",
    "\n",
    "\n",
    "taxonomy_id = upload_category_list(your_category_list)\n",
    "taxonomy_id"
   ]
  },
  {
   "cell_type": "code",
   "execution_count": 22,
   "metadata": {},
   "outputs": [
    {
     "data": {
      "text/plain": [
       "{'gpt_product_name': 'Solar panels',\n",
       " 'gpt_product_category': 'Renewable energy',\n",
       " 'gpt_confidence': 1.0,\n",
       " 'gpt_notebook_version': 'v1'}"
      ]
     },
     "execution_count": 22,
     "metadata": {},
     "output_type": "execute_result"
    }
   ],
   "source": [
    "your_product_list = [\"Solar panels\", \"Wind turbines\", \"Hydropower plant\", \"Coal power plant\", \"Natural gas power plant\"]\n",
    "\n",
    "results = classify_products(taxonomy_id, your_product_list)\n",
    "results[0]"
   ]
  },
  {
   "cell_type": "code",
   "execution_count": 23,
   "metadata": {},
   "outputs": [
    {
     "data": {
      "text/html": [
       "<div>\n",
       "<style scoped>\n",
       "    .dataframe tbody tr th:only-of-type {\n",
       "        vertical-align: middle;\n",
       "    }\n",
       "\n",
       "    .dataframe tbody tr th {\n",
       "        vertical-align: top;\n",
       "    }\n",
       "\n",
       "    .dataframe thead th {\n",
       "        text-align: right;\n",
       "    }\n",
       "</style>\n",
       "<table border=\"1\" class=\"dataframe\">\n",
       "  <thead>\n",
       "    <tr style=\"text-align: right;\">\n",
       "      <th></th>\n",
       "      <th>gpt_product_name</th>\n",
       "      <th>gpt_product_category</th>\n",
       "      <th>gpt_confidence</th>\n",
       "      <th>gpt_notebook_version</th>\n",
       "    </tr>\n",
       "  </thead>\n",
       "  <tbody>\n",
       "    <tr>\n",
       "      <th>0</th>\n",
       "      <td>Solar panels</td>\n",
       "      <td>Renewable energy</td>\n",
       "      <td>1.0</td>\n",
       "      <td>v1</td>\n",
       "    </tr>\n",
       "    <tr>\n",
       "      <th>1</th>\n",
       "      <td>Wind turbines</td>\n",
       "      <td>Renewable energy</td>\n",
       "      <td>1.0</td>\n",
       "      <td>v1</td>\n",
       "    </tr>\n",
       "    <tr>\n",
       "      <th>2</th>\n",
       "      <td>Hydropower plant</td>\n",
       "      <td>Renewable energy</td>\n",
       "      <td>1.0</td>\n",
       "      <td>v1</td>\n",
       "    </tr>\n",
       "    <tr>\n",
       "      <th>3</th>\n",
       "      <td>Coal power plant</td>\n",
       "      <td>Fossil fuel based energy</td>\n",
       "      <td>1.0</td>\n",
       "      <td>v1</td>\n",
       "    </tr>\n",
       "    <tr>\n",
       "      <th>4</th>\n",
       "      <td>Natural gas power plant</td>\n",
       "      <td>Fossil fuel based energy</td>\n",
       "      <td>1.0</td>\n",
       "      <td>v1</td>\n",
       "    </tr>\n",
       "  </tbody>\n",
       "</table>\n",
       "</div>"
      ],
      "text/plain": [
       "          gpt_product_name      gpt_product_category  gpt_confidence  \\\n",
       "0             Solar panels          Renewable energy             1.0   \n",
       "1            Wind turbines          Renewable energy             1.0   \n",
       "2         Hydropower plant          Renewable energy             1.0   \n",
       "3         Coal power plant  Fossil fuel based energy             1.0   \n",
       "4  Natural gas power plant  Fossil fuel based energy             1.0   \n",
       "\n",
       "  gpt_notebook_version  \n",
       "0                   v1  \n",
       "1                   v1  \n",
       "2                   v1  \n",
       "3                   v1  \n",
       "4                   v1  "
      ]
     },
     "execution_count": 23,
     "metadata": {},
     "output_type": "execute_result"
    }
   ],
   "source": [
    "pd.DataFrame(results)"
   ]
  }
 ],
 "metadata": {
  "kernelspec": {
   "display_name": "Python 3",
   "language": "python",
   "name": "python3"
  },
  "language_info": {
   "codemirror_mode": {
    "name": "ipython",
    "version": 3
   },
   "file_extension": ".py",
   "mimetype": "text/x-python",
   "name": "python",
   "nbconvert_exporter": "python",
   "pygments_lexer": "ipython3",
   "version": "3.11.3"
  },
  "orig_nbformat": 4
 },
 "nbformat": 4,
 "nbformat_minor": 2
}
